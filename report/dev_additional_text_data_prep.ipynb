{
 "cells": [
  {
   "cell_type": "code",
   "execution_count": 1,
   "metadata": {},
   "outputs": [],
   "source": [
    "import pandas as pd\n",
    "import numpy as np"
   ]
  },
  {
   "cell_type": "markdown",
   "metadata": {},
   "source": [
    "## Adding Huffington Post News 2018 dataset (sampled) as Testing Data"
   ]
  },
  {
   "cell_type": "markdown",
   "metadata": {},
   "source": [
    "The 2018 huffington post news was downloaded from kaggle via https://www.kaggle.com/rmisra/news-category-dataset."
   ]
  },
  {
   "cell_type": "code",
   "execution_count": 2,
   "metadata": {},
   "outputs": [],
   "source": [
    "huff_news_df = pd.read_json('../input/News_Category_Dataset_v2.json', lines=True)"
   ]
  },
  {
   "cell_type": "code",
   "execution_count": 3,
   "metadata": {},
   "outputs": [
    {
     "data": {
      "text/html": [
       "<div>\n",
       "<style scoped>\n",
       "    .dataframe tbody tr th:only-of-type {\n",
       "        vertical-align: middle;\n",
       "    }\n",
       "\n",
       "    .dataframe tbody tr th {\n",
       "        vertical-align: top;\n",
       "    }\n",
       "\n",
       "    .dataframe thead th {\n",
       "        text-align: right;\n",
       "    }\n",
       "</style>\n",
       "<table border=\"1\" class=\"dataframe\">\n",
       "  <thead>\n",
       "    <tr style=\"text-align: right;\">\n",
       "      <th></th>\n",
       "      <th>category</th>\n",
       "      <th>headline</th>\n",
       "      <th>authors</th>\n",
       "      <th>link</th>\n",
       "      <th>short_description</th>\n",
       "      <th>date</th>\n",
       "    </tr>\n",
       "  </thead>\n",
       "  <tbody>\n",
       "    <tr>\n",
       "      <th>0</th>\n",
       "      <td>CRIME</td>\n",
       "      <td>There Were 2 Mass Shootings In Texas Last Week...</td>\n",
       "      <td>Melissa Jeltsen</td>\n",
       "      <td>https://www.huffingtonpost.com/entry/texas-ama...</td>\n",
       "      <td>She left her husband. He killed their children...</td>\n",
       "      <td>2018-05-26</td>\n",
       "    </tr>\n",
       "    <tr>\n",
       "      <th>1</th>\n",
       "      <td>ENTERTAINMENT</td>\n",
       "      <td>Will Smith Joins Diplo And Nicky Jam For The 2...</td>\n",
       "      <td>Andy McDonald</td>\n",
       "      <td>https://www.huffingtonpost.com/entry/will-smit...</td>\n",
       "      <td>Of course it has a song.</td>\n",
       "      <td>2018-05-26</td>\n",
       "    </tr>\n",
       "    <tr>\n",
       "      <th>2</th>\n",
       "      <td>ENTERTAINMENT</td>\n",
       "      <td>Hugh Grant Marries For The First Time At Age 57</td>\n",
       "      <td>Ron Dicker</td>\n",
       "      <td>https://www.huffingtonpost.com/entry/hugh-gran...</td>\n",
       "      <td>The actor and his longtime girlfriend Anna Ebe...</td>\n",
       "      <td>2018-05-26</td>\n",
       "    </tr>\n",
       "    <tr>\n",
       "      <th>3</th>\n",
       "      <td>ENTERTAINMENT</td>\n",
       "      <td>Jim Carrey Blasts 'Castrato' Adam Schiff And D...</td>\n",
       "      <td>Ron Dicker</td>\n",
       "      <td>https://www.huffingtonpost.com/entry/jim-carre...</td>\n",
       "      <td>The actor gives Dems an ass-kicking for not fi...</td>\n",
       "      <td>2018-05-26</td>\n",
       "    </tr>\n",
       "    <tr>\n",
       "      <th>4</th>\n",
       "      <td>ENTERTAINMENT</td>\n",
       "      <td>Julianna Margulies Uses Donald Trump Poop Bags...</td>\n",
       "      <td>Ron Dicker</td>\n",
       "      <td>https://www.huffingtonpost.com/entry/julianna-...</td>\n",
       "      <td>The \"Dietland\" actress said using the bags is ...</td>\n",
       "      <td>2018-05-26</td>\n",
       "    </tr>\n",
       "  </tbody>\n",
       "</table>\n",
       "</div>"
      ],
      "text/plain": [
       "        category                                           headline  \\\n",
       "0          CRIME  There Were 2 Mass Shootings In Texas Last Week...   \n",
       "1  ENTERTAINMENT  Will Smith Joins Diplo And Nicky Jam For The 2...   \n",
       "2  ENTERTAINMENT    Hugh Grant Marries For The First Time At Age 57   \n",
       "3  ENTERTAINMENT  Jim Carrey Blasts 'Castrato' Adam Schiff And D...   \n",
       "4  ENTERTAINMENT  Julianna Margulies Uses Donald Trump Poop Bags...   \n",
       "\n",
       "           authors                                               link  \\\n",
       "0  Melissa Jeltsen  https://www.huffingtonpost.com/entry/texas-ama...   \n",
       "1    Andy McDonald  https://www.huffingtonpost.com/entry/will-smit...   \n",
       "2       Ron Dicker  https://www.huffingtonpost.com/entry/hugh-gran...   \n",
       "3       Ron Dicker  https://www.huffingtonpost.com/entry/jim-carre...   \n",
       "4       Ron Dicker  https://www.huffingtonpost.com/entry/julianna-...   \n",
       "\n",
       "                                   short_description       date  \n",
       "0  She left her husband. He killed their children... 2018-05-26  \n",
       "1                           Of course it has a song. 2018-05-26  \n",
       "2  The actor and his longtime girlfriend Anna Ebe... 2018-05-26  \n",
       "3  The actor gives Dems an ass-kicking for not fi... 2018-05-26  \n",
       "4  The \"Dietland\" actress said using the bags is ... 2018-05-26  "
      ]
     },
     "execution_count": 3,
     "metadata": {},
     "output_type": "execute_result"
    }
   ],
   "source": [
    "huff_news_df.head()"
   ]
  },
  {
   "cell_type": "code",
   "execution_count": 4,
   "metadata": {},
   "outputs": [
    {
     "data": {
      "text/plain": [
       "category                 41\n",
       "headline             199344\n",
       "authors               27993\n",
       "link                 200812\n",
       "short_description    178353\n",
       "date                   2309\n",
       "dtype: int64"
      ]
     },
     "execution_count": 4,
     "metadata": {},
     "output_type": "execute_result"
    }
   ],
   "source": [
    "huff_news_df.nunique()"
   ]
  },
  {
   "cell_type": "code",
   "execution_count": 5,
   "metadata": {},
   "outputs": [
    {
     "data": {
      "text/plain": [
       "POLITICS          32739\n",
       "WELLNESS          17827\n",
       "ENTERTAINMENT     16058\n",
       "TRAVEL             9887\n",
       "STYLE & BEAUTY     9649\n",
       "PARENTING          8677\n",
       "HEALTHY LIVING     6694\n",
       "QUEER VOICES       6314\n",
       "FOOD & DRINK       6226\n",
       "BUSINESS           5937\n",
       "Name: category, dtype: int64"
      ]
     },
     "execution_count": 5,
     "metadata": {},
     "output_type": "execute_result"
    }
   ],
   "source": [
    "huff_news_df.category.value_counts().head(10)"
   ]
  },
  {
   "cell_type": "code",
   "execution_count": 6,
   "metadata": {},
   "outputs": [],
   "source": [
    "sub_df = huff_news_df.sample(20000).reset_index().rename({'index': 'UID',\n",
    "                                                          'headline': 'Text',\n",
    "                                                          'category': 'Tags'}, axis=1)"
   ]
  },
  {
   "cell_type": "code",
   "execution_count": 7,
   "metadata": {},
   "outputs": [
    {
     "data": {
      "text/html": [
       "<div>\n",
       "<style scoped>\n",
       "    .dataframe tbody tr th:only-of-type {\n",
       "        vertical-align: middle;\n",
       "    }\n",
       "\n",
       "    .dataframe tbody tr th {\n",
       "        vertical-align: top;\n",
       "    }\n",
       "\n",
       "    .dataframe thead th {\n",
       "        text-align: right;\n",
       "    }\n",
       "</style>\n",
       "<table border=\"1\" class=\"dataframe\">\n",
       "  <thead>\n",
       "    <tr style=\"text-align: right;\">\n",
       "      <th></th>\n",
       "      <th>UID</th>\n",
       "      <th>Tags</th>\n",
       "      <th>Text</th>\n",
       "      <th>authors</th>\n",
       "      <th>link</th>\n",
       "      <th>short_description</th>\n",
       "      <th>date</th>\n",
       "    </tr>\n",
       "  </thead>\n",
       "  <tbody>\n",
       "    <tr>\n",
       "      <th>0</th>\n",
       "      <td>177378</td>\n",
       "      <td>TECH</td>\n",
       "      <td>'OpenDyslexic,' Free Font, Helps People With D...</td>\n",
       "      <td></td>\n",
       "      <td>https://www.huffingtonpost.com/entry/open-dysl...</td>\n",
       "      <td>The BBC reports that a recent update to Instap...</td>\n",
       "      <td>2012-10-07</td>\n",
       "    </tr>\n",
       "    <tr>\n",
       "      <th>1</th>\n",
       "      <td>118823</td>\n",
       "      <td>GREEN</td>\n",
       "      <td>WATCH: This Manatee Rescue Will Make Your Day</td>\n",
       "      <td>Avery Stone</td>\n",
       "      <td>https://www.huffingtonpost.com/entry/florida-m...</td>\n",
       "      <td></td>\n",
       "      <td>2014-06-29</td>\n",
       "    </tr>\n",
       "    <tr>\n",
       "      <th>2</th>\n",
       "      <td>114742</td>\n",
       "      <td>HEALTHY LIVING</td>\n",
       "      <td>Wheelchair Wisdom: A Short Course on Perceptio...</td>\n",
       "      <td>Linda Noble Topf, ContributorInspirational Aut...</td>\n",
       "      <td>https://www.huffingtonpost.com/entry/wheelchai...</td>\n",
       "      <td>Like any prejudice, our perceptions about what...</td>\n",
       "      <td>2014-08-14</td>\n",
       "    </tr>\n",
       "    <tr>\n",
       "      <th>3</th>\n",
       "      <td>110397</td>\n",
       "      <td>WEIRD NEWS</td>\n",
       "      <td>BALLSY MOVE: Man Pushes Giant Testicle Across US</td>\n",
       "      <td>David Moye</td>\n",
       "      <td>https://www.huffingtonpost.com/entry/thomas-ca...</td>\n",
       "      <td></td>\n",
       "      <td>2014-10-03</td>\n",
       "    </tr>\n",
       "    <tr>\n",
       "      <th>4</th>\n",
       "      <td>13389</td>\n",
       "      <td>HEALTHY LIVING</td>\n",
       "      <td>Gender-Fluid Scouts Of America</td>\n",
       "      <td>The Atlantic, ContributorExploring the America...</td>\n",
       "      <td>https://www.huffingtonpost.com/entry/gender-fl...</td>\n",
       "      <td>There are times when it is necessary to highli...</td>\n",
       "      <td>2017-10-24</td>\n",
       "    </tr>\n",
       "  </tbody>\n",
       "</table>\n",
       "</div>"
      ],
      "text/plain": [
       "      UID            Tags                                               Text  \\\n",
       "0  177378            TECH  'OpenDyslexic,' Free Font, Helps People With D...   \n",
       "1  118823           GREEN      WATCH: This Manatee Rescue Will Make Your Day   \n",
       "2  114742  HEALTHY LIVING  Wheelchair Wisdom: A Short Course on Perceptio...   \n",
       "3  110397      WEIRD NEWS   BALLSY MOVE: Man Pushes Giant Testicle Across US   \n",
       "4   13389  HEALTHY LIVING                     Gender-Fluid Scouts Of America   \n",
       "\n",
       "                                             authors  \\\n",
       "0                                                      \n",
       "1                                        Avery Stone   \n",
       "2  Linda Noble Topf, ContributorInspirational Aut...   \n",
       "3                                         David Moye   \n",
       "4  The Atlantic, ContributorExploring the America...   \n",
       "\n",
       "                                                link  \\\n",
       "0  https://www.huffingtonpost.com/entry/open-dysl...   \n",
       "1  https://www.huffingtonpost.com/entry/florida-m...   \n",
       "2  https://www.huffingtonpost.com/entry/wheelchai...   \n",
       "3  https://www.huffingtonpost.com/entry/thomas-ca...   \n",
       "4  https://www.huffingtonpost.com/entry/gender-fl...   \n",
       "\n",
       "                                   short_description       date  \n",
       "0  The BBC reports that a recent update to Instap... 2012-10-07  \n",
       "1                                                    2014-06-29  \n",
       "2  Like any prejudice, our perceptions about what... 2014-08-14  \n",
       "3                                                    2014-10-03  \n",
       "4  There are times when it is necessary to highli... 2017-10-24  "
      ]
     },
     "execution_count": 7,
     "metadata": {},
     "output_type": "execute_result"
    }
   ],
   "source": [
    "sub_df.head()"
   ]
  },
  {
   "cell_type": "code",
   "execution_count": 8,
   "metadata": {},
   "outputs": [],
   "source": [
    "huff_train_df = sub_df.iloc[:10000, :].reset_index(drop=True)\n",
    "huff_test_df = sub_df.iloc[10000:, :].reset_index(drop=True)"
   ]
  },
  {
   "cell_type": "code",
   "execution_count": 9,
   "metadata": {},
   "outputs": [],
   "source": [
    "huff_train_df.to_json('../input/huffpost_news_train_10000_coded.json', orient='records', indent=2)\n",
    "huff_test_df.to_json('../input/huffpost_news_test_10000_coded.json', orient='records', indent=2)"
   ]
  },
  {
   "cell_type": "markdown",
   "metadata": {},
   "source": [
    "## Adding Stack Overflow Python Questions dataset (sampled) as Testing Data"
   ]
  },
  {
   "cell_type": "markdown",
   "metadata": {},
   "source": [
    "The stack overflow python questions dataset was downloaded from Kaggle via https://www.kaggle.com/stackoverflow/pythonquestions."
   ]
  },
  {
   "cell_type": "code",
   "execution_count": 10,
   "metadata": {},
   "outputs": [],
   "source": [
    "so_question_df = pd.read_csv('../input/Questions.csv', encoding= \"ISO-8859-1\", usecols=['Id', 'Title', 'Body'])"
   ]
  },
  {
   "cell_type": "code",
   "execution_count": 11,
   "metadata": {},
   "outputs": [
    {
     "data": {
      "text/plain": [
       "(607282, 3)"
      ]
     },
     "execution_count": 11,
     "metadata": {},
     "output_type": "execute_result"
    }
   ],
   "source": [
    "so_question_df.shape"
   ]
  },
  {
   "cell_type": "code",
   "execution_count": 12,
   "metadata": {},
   "outputs": [],
   "source": [
    "# read all the tags\n",
    "tags_df = pd.read_csv('../input/Tags.csv', encoding= \"ISO-8859-1\")"
   ]
  },
  {
   "cell_type": "code",
   "execution_count": 13,
   "metadata": {},
   "outputs": [
    {
     "data": {
      "text/plain": [
       "python               607283\n",
       "django                62818\n",
       "python-2.7            34616\n",
       "pandas                26854\n",
       "python-3.x            26814\n",
       "numpy                 25848\n",
       "list                  18951\n",
       "matplotlib            16521\n",
       "regex                 14047\n",
       "dictionary            13413\n",
       "tkinter               10766\n",
       "string                10616\n",
       "flask                 10488\n",
       "google-app-engine     10286\n",
       "csv                    9323\n",
       "arrays                 9170\n",
       "json                   8023\n",
       "mysql                  7529\n",
       "linux                  7121\n",
       "html                   7118\n",
       "Name: Tag, dtype: int64"
      ]
     },
     "execution_count": 13,
     "metadata": {},
     "output_type": "execute_result"
    }
   ],
   "source": [
    "tags_df.Tag.value_counts().head(20)"
   ]
  },
  {
   "cell_type": "code",
   "execution_count": 14,
   "metadata": {},
   "outputs": [],
   "source": [
    "# subset tags\n",
    "tags_sub_df = tags_df.loc[\n",
    "    ~np.isin(tags_df.Tag, ['python', 'python-2.7', 'python-3.x']), :].reset_index(drop=True)"
   ]
  },
  {
   "cell_type": "code",
   "execution_count": 15,
   "metadata": {},
   "outputs": [
    {
     "data": {
      "text/plain": [
       "django        62818\n",
       "pandas        26854\n",
       "numpy         25848\n",
       "list          18951\n",
       "matplotlib    16521\n",
       "regex         14047\n",
       "dictionary    13413\n",
       "tkinter       10766\n",
       "string        10616\n",
       "flask         10488\n",
       "Name: Tag, dtype: int64"
      ]
     },
     "execution_count": 15,
     "metadata": {},
     "output_type": "execute_result"
    }
   ],
   "source": [
    "tags_sub_df.Tag.value_counts().head(10)"
   ]
  },
  {
   "cell_type": "code",
   "execution_count": 16,
   "metadata": {},
   "outputs": [],
   "source": [
    "# create the top freq tags from the list, with more than 10% of the 60,000~ records\n",
    "top_tags = tags_sub_df.Tag.value_counts()[tags_sub_df.Tag.value_counts() > 6000].index.tolist()\n",
    "uid_w_top_tags = tags_sub_df.Id[tags_sub_df.Tag.isin(top_tags)].unique()\n",
    "sampled_uid = uid_w_top_tags[np.random.choice(uid_w_top_tags.shape[0], size=20000, replace=False)]"
   ]
  },
  {
   "cell_type": "code",
   "execution_count": 17,
   "metadata": {},
   "outputs": [
    {
     "data": {
      "text/html": [
       "<div>\n",
       "<style scoped>\n",
       "    .dataframe tbody tr th:only-of-type {\n",
       "        vertical-align: middle;\n",
       "    }\n",
       "\n",
       "    .dataframe tbody tr th {\n",
       "        vertical-align: top;\n",
       "    }\n",
       "\n",
       "    .dataframe thead th {\n",
       "        text-align: right;\n",
       "    }\n",
       "</style>\n",
       "<table border=\"1\" class=\"dataframe\">\n",
       "  <thead>\n",
       "    <tr style=\"text-align: right;\">\n",
       "      <th></th>\n",
       "      <th>Id</th>\n",
       "      <th>Title</th>\n",
       "      <th>Body</th>\n",
       "    </tr>\n",
       "  </thead>\n",
       "  <tbody>\n",
       "    <tr>\n",
       "      <th>0</th>\n",
       "      <td>20927</td>\n",
       "      <td>updating an auto_now DateTimeField in a parent...</td>\n",
       "      <td>&lt;p&gt;I've got two models: Message and Attachment...</td>\n",
       "    </tr>\n",
       "    <tr>\n",
       "      <th>1</th>\n",
       "      <td>47207</td>\n",
       "      <td>Django: Print url of view without hardcoding t...</td>\n",
       "      <td>&lt;p&gt;Can i print out a url &lt;code&gt;/admin/manage/p...</td>\n",
       "    </tr>\n",
       "    <tr>\n",
       "      <th>2</th>\n",
       "      <td>64362</td>\n",
       "      <td>How can I access App Engine through a Corporat...</td>\n",
       "      <td>&lt;p&gt;I have corporate proxy that supports https ...</td>\n",
       "    </tr>\n",
       "    <tr>\n",
       "      <th>3</th>\n",
       "      <td>75829</td>\n",
       "      <td>Best way to access table instances when using ...</td>\n",
       "      <td>&lt;p&gt;All the docs for SQLAlchemy give &lt;code&gt;INSE...</td>\n",
       "    </tr>\n",
       "    <tr>\n",
       "      <th>4</th>\n",
       "      <td>79968</td>\n",
       "      <td>Split a string by spaces -- preserving quoted ...</td>\n",
       "      <td>&lt;p&gt;I have a string which is like this:&lt;/p&gt;\\n\\n...</td>\n",
       "    </tr>\n",
       "  </tbody>\n",
       "</table>\n",
       "</div>"
      ],
      "text/plain": [
       "      Id                                              Title  \\\n",
       "0  20927  updating an auto_now DateTimeField in a parent...   \n",
       "1  47207  Django: Print url of view without hardcoding t...   \n",
       "2  64362  How can I access App Engine through a Corporat...   \n",
       "3  75829  Best way to access table instances when using ...   \n",
       "4  79968  Split a string by spaces -- preserving quoted ...   \n",
       "\n",
       "                                                Body  \n",
       "0  <p>I've got two models: Message and Attachment...  \n",
       "1  <p>Can i print out a url <code>/admin/manage/p...  \n",
       "2  <p>I have corporate proxy that supports https ...  \n",
       "3  <p>All the docs for SQLAlchemy give <code>INSE...  \n",
       "4  <p>I have a string which is like this:</p>\\n\\n...  "
      ]
     },
     "execution_count": 17,
     "metadata": {},
     "output_type": "execute_result"
    }
   ],
   "source": [
    "so_sub_questions_df = so_question_df.loc[np.isin(so_question_df.Id, sampled_uid), :].reset_index(drop=True)\n",
    "so_sub_questions_df.head()"
   ]
  },
  {
   "cell_type": "code",
   "execution_count": 18,
   "metadata": {},
   "outputs": [
    {
     "data": {
      "text/html": [
       "<div>\n",
       "<style scoped>\n",
       "    .dataframe tbody tr th:only-of-type {\n",
       "        vertical-align: middle;\n",
       "    }\n",
       "\n",
       "    .dataframe tbody tr th {\n",
       "        vertical-align: top;\n",
       "    }\n",
       "\n",
       "    .dataframe thead th {\n",
       "        text-align: right;\n",
       "    }\n",
       "</style>\n",
       "<table border=\"1\" class=\"dataframe\">\n",
       "  <thead>\n",
       "    <tr style=\"text-align: right;\">\n",
       "      <th></th>\n",
       "      <th>Id</th>\n",
       "      <th>Tag</th>\n",
       "    </tr>\n",
       "  </thead>\n",
       "  <tbody>\n",
       "    <tr>\n",
       "      <th>0</th>\n",
       "      <td>20927</td>\n",
       "      <td>django</td>\n",
       "    </tr>\n",
       "    <tr>\n",
       "      <th>1</th>\n",
       "      <td>47207</td>\n",
       "      <td>django</td>\n",
       "    </tr>\n",
       "    <tr>\n",
       "      <th>2</th>\n",
       "      <td>64362</td>\n",
       "      <td>google-app-engine</td>\n",
       "    </tr>\n",
       "    <tr>\n",
       "      <th>3</th>\n",
       "      <td>75829</td>\n",
       "      <td>sqlalchemy</td>\n",
       "    </tr>\n",
       "    <tr>\n",
       "      <th>4</th>\n",
       "      <td>79968</td>\n",
       "      <td>regex</td>\n",
       "    </tr>\n",
       "  </tbody>\n",
       "</table>\n",
       "</div>"
      ],
      "text/plain": [
       "      Id                Tag\n",
       "0  20927             django\n",
       "1  47207             django\n",
       "2  64362  google-app-engine\n",
       "3  75829         sqlalchemy\n",
       "4  79968              regex"
      ]
     },
     "execution_count": 18,
     "metadata": {},
     "output_type": "execute_result"
    }
   ],
   "source": [
    "# subset tags\n",
    "top_tags_df = tags_df.loc[\n",
    "    np.isin(tags_df.Id, so_sub_questions_df.Id.unique()) & \\\n",
    "    np.isin(tags_df.Tag, top_tags), :].reset_index(drop=True)\n",
    "top_tags_df.head()"
   ]
  },
  {
   "cell_type": "code",
   "execution_count": 19,
   "metadata": {},
   "outputs": [
    {
     "data": {
      "text/plain": [
       "(23243, 2)"
      ]
     },
     "execution_count": 19,
     "metadata": {},
     "output_type": "execute_result"
    }
   ],
   "source": [
    "top_tags_df.shape"
   ]
  },
  {
   "cell_type": "code",
   "execution_count": 20,
   "metadata": {},
   "outputs": [
    {
     "data": {
      "text/plain": [
       "Id      20927\n",
       "Tag    django\n",
       "Name: 0, dtype: object"
      ]
     },
     "execution_count": 20,
     "metadata": {},
     "output_type": "execute_result"
    }
   ],
   "source": [
    "# test with iterrows to step through the tags_df\n",
    "next(top_tags_df.iterrows())[1]#['Id']"
   ]
  },
  {
   "cell_type": "code",
   "execution_count": 21,
   "metadata": {},
   "outputs": [
    {
     "name": "stdout",
     "output_type": "stream",
     "text": [
      "CPU times: user 2.28 s, sys: 6.98 ms, total: 2.28 s\n",
      "Wall time: 2.28 s\n"
     ]
    }
   ],
   "source": [
    "%%time\n",
    "tags_dict = {}\n",
    "for row in top_tags_df.iterrows():\n",
    "    uid, q_tag = row[1]['Id'], row[1]['Tag']\n",
    "    if uid not in tags_dict.keys():\n",
    "        tags_dict[uid] = [q_tag]\n",
    "    else:\n",
    "        tags_dict[uid].append(q_tag)"
   ]
  },
  {
   "cell_type": "code",
   "execution_count": 22,
   "metadata": {},
   "outputs": [],
   "source": [
    "tags_pd_ready = {'Id':[], 'Tag':[]}\n",
    "for Id, Tag in tags_dict.items():\n",
    "    tags_pd_ready['Id'].append(Id)\n",
    "    tags_pd_ready['Tag'].append(\", \".join(Tag))\n",
    "question_tags_df = pd.DataFrame(tags_pd_ready)"
   ]
  },
  {
   "cell_type": "code",
   "execution_count": 23,
   "metadata": {},
   "outputs": [
    {
     "data": {
      "text/html": [
       "<div>\n",
       "<style scoped>\n",
       "    .dataframe tbody tr th:only-of-type {\n",
       "        vertical-align: middle;\n",
       "    }\n",
       "\n",
       "    .dataframe tbody tr th {\n",
       "        vertical-align: top;\n",
       "    }\n",
       "\n",
       "    .dataframe thead th {\n",
       "        text-align: right;\n",
       "    }\n",
       "</style>\n",
       "<table border=\"1\" class=\"dataframe\">\n",
       "  <thead>\n",
       "    <tr style=\"text-align: right;\">\n",
       "      <th></th>\n",
       "      <th>Id</th>\n",
       "      <th>Tag</th>\n",
       "    </tr>\n",
       "  </thead>\n",
       "  <tbody>\n",
       "    <tr>\n",
       "      <th>0</th>\n",
       "      <td>20927</td>\n",
       "      <td>django</td>\n",
       "    </tr>\n",
       "    <tr>\n",
       "      <th>1</th>\n",
       "      <td>47207</td>\n",
       "      <td>django</td>\n",
       "    </tr>\n",
       "    <tr>\n",
       "      <th>2</th>\n",
       "      <td>64362</td>\n",
       "      <td>google-app-engine</td>\n",
       "    </tr>\n",
       "    <tr>\n",
       "      <th>3</th>\n",
       "      <td>75829</td>\n",
       "      <td>sqlalchemy</td>\n",
       "    </tr>\n",
       "    <tr>\n",
       "      <th>4</th>\n",
       "      <td>79968</td>\n",
       "      <td>regex</td>\n",
       "    </tr>\n",
       "  </tbody>\n",
       "</table>\n",
       "</div>"
      ],
      "text/plain": [
       "      Id                Tag\n",
       "0  20927             django\n",
       "1  47207             django\n",
       "2  64362  google-app-engine\n",
       "3  75829         sqlalchemy\n",
       "4  79968              regex"
      ]
     },
     "execution_count": 23,
     "metadata": {},
     "output_type": "execute_result"
    }
   ],
   "source": [
    "question_tags_df.head()"
   ]
  },
  {
   "cell_type": "code",
   "execution_count": 24,
   "metadata": {},
   "outputs": [],
   "source": [
    "# merge the tables into a single set\n",
    "so_sub_df = so_sub_questions_df.merge(question_tags_df, how='inner', on='Id').rename({'Title': 'Text', 'Id': 'UID', 'Tag': 'Tags'}, axis=1)"
   ]
  },
  {
   "cell_type": "code",
   "execution_count": 28,
   "metadata": {},
   "outputs": [
    {
     "data": {
      "text/html": [
       "<div>\n",
       "<style scoped>\n",
       "    .dataframe tbody tr th:only-of-type {\n",
       "        vertical-align: middle;\n",
       "    }\n",
       "\n",
       "    .dataframe tbody tr th {\n",
       "        vertical-align: top;\n",
       "    }\n",
       "\n",
       "    .dataframe thead th {\n",
       "        text-align: right;\n",
       "    }\n",
       "</style>\n",
       "<table border=\"1\" class=\"dataframe\">\n",
       "  <thead>\n",
       "    <tr style=\"text-align: right;\">\n",
       "      <th></th>\n",
       "      <th>UID</th>\n",
       "      <th>Text</th>\n",
       "      <th>Body</th>\n",
       "      <th>Tags</th>\n",
       "    </tr>\n",
       "  </thead>\n",
       "  <tbody>\n",
       "    <tr>\n",
       "      <th>0</th>\n",
       "      <td>20927</td>\n",
       "      <td>updating an auto_now DateTimeField in a parent...</td>\n",
       "      <td>&lt;p&gt;I've got two models: Message and Attachment...</td>\n",
       "      <td>django</td>\n",
       "    </tr>\n",
       "    <tr>\n",
       "      <th>1</th>\n",
       "      <td>47207</td>\n",
       "      <td>Django: Print url of view without hardcoding t...</td>\n",
       "      <td>&lt;p&gt;Can i print out a url &lt;code&gt;/admin/manage/p...</td>\n",
       "      <td>django</td>\n",
       "    </tr>\n",
       "    <tr>\n",
       "      <th>2</th>\n",
       "      <td>64362</td>\n",
       "      <td>How can I access App Engine through a Corporat...</td>\n",
       "      <td>&lt;p&gt;I have corporate proxy that supports https ...</td>\n",
       "      <td>google-app-engine</td>\n",
       "    </tr>\n",
       "    <tr>\n",
       "      <th>3</th>\n",
       "      <td>75829</td>\n",
       "      <td>Best way to access table instances when using ...</td>\n",
       "      <td>&lt;p&gt;All the docs for SQLAlchemy give &lt;code&gt;INSE...</td>\n",
       "      <td>sqlalchemy</td>\n",
       "    </tr>\n",
       "    <tr>\n",
       "      <th>4</th>\n",
       "      <td>79968</td>\n",
       "      <td>Split a string by spaces -- preserving quoted ...</td>\n",
       "      <td>&lt;p&gt;I have a string which is like this:&lt;/p&gt;\\n\\n...</td>\n",
       "      <td>regex</td>\n",
       "    </tr>\n",
       "  </tbody>\n",
       "</table>\n",
       "</div>"
      ],
      "text/plain": [
       "     UID                                               Text  \\\n",
       "0  20927  updating an auto_now DateTimeField in a parent...   \n",
       "1  47207  Django: Print url of view without hardcoding t...   \n",
       "2  64362  How can I access App Engine through a Corporat...   \n",
       "3  75829  Best way to access table instances when using ...   \n",
       "4  79968  Split a string by spaces -- preserving quoted ...   \n",
       "\n",
       "                                                Body               Tags  \n",
       "0  <p>I've got two models: Message and Attachment...             django  \n",
       "1  <p>Can i print out a url <code>/admin/manage/p...             django  \n",
       "2  <p>I have corporate proxy that supports https ...  google-app-engine  \n",
       "3  <p>All the docs for SQLAlchemy give <code>INSE...         sqlalchemy  \n",
       "4  <p>I have a string which is like this:</p>\\n\\n...              regex  "
      ]
     },
     "execution_count": 28,
     "metadata": {},
     "output_type": "execute_result"
    }
   ],
   "source": [
    "so_sub_df.head()"
   ]
  },
  {
   "cell_type": "code",
   "execution_count": 25,
   "metadata": {},
   "outputs": [],
   "source": [
    "stack_overflow_train_df = so_sub_df.iloc[:10000, :].reset_index(drop=True)\n",
    "stack_overflow_test_df = so_sub_df.iloc[10000:, :].reset_index(drop=True)"
   ]
  },
  {
   "cell_type": "code",
   "execution_count": 26,
   "metadata": {},
   "outputs": [],
   "source": [
    "stack_overflow_train_df.to_json('../input/stack_overflow_train_10000_coded.json', orient='records', indent=2)\n",
    "stack_overflow_test_df.to_json('../input/stack_overflow_test_10000_coded.json', orient='records', indent=2)"
   ]
  },
  {
   "cell_type": "code",
   "execution_count": null,
   "metadata": {},
   "outputs": [],
   "source": []
  }
 ],
 "metadata": {
  "kernelspec": {
   "display_name": "Python 3",
   "language": "python",
   "name": "python3"
  },
  "language_info": {
   "codemirror_mode": {
    "name": "ipython",
    "version": 3
   },
   "file_extension": ".py",
   "mimetype": "text/x-python",
   "name": "python",
   "nbconvert_exporter": "python",
   "pygments_lexer": "ipython3",
   "version": "3.6.9"
  }
 },
 "nbformat": 4,
 "nbformat_minor": 4
}
