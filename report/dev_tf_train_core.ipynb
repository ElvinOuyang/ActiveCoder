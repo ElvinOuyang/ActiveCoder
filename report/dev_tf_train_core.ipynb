{
 "cells": [
  {
   "cell_type": "code",
   "execution_count": 1,
   "metadata": {},
   "outputs": [
    {
     "name": "stdout",
     "output_type": "stream",
     "text": [
      "2.2.0\n",
      "[PhysicalDevice(name='/physical_device:GPU:0', device_type='GPU')]\n"
     ]
    }
   ],
   "source": [
    "import pandas as pd\n",
    "import numpy as np\n",
    "import tensorflow as tf\n",
    "print(tf.__version__)\n",
    "print(tf.config.experimental.list_physical_devices('GPU'))\n",
    "\n",
    "import random\n",
    "import pickle\n",
    "import spacy"
   ]
  },
  {
   "cell_type": "code",
   "execution_count": 2,
   "metadata": {},
   "outputs": [],
   "source": [
    "import sys\n",
    "sys.path.append('..')\n",
    "import ui_utils\n",
    "import nlp_tools"
   ]
  },
  {
   "cell_type": "markdown",
   "metadata": {},
   "source": [
    "## Create function to turn multilabel tags into dummies"
   ]
  },
  {
   "cell_type": "code",
   "execution_count": 3,
   "metadata": {},
   "outputs": [],
   "source": [
    "train_df = pd.read_json('../input/test_train_input.json', orient='records')"
   ]
  },
  {
   "cell_type": "code",
   "execution_count": 4,
   "metadata": {},
   "outputs": [
    {
     "data": {
      "text/html": [
       "<div>\n",
       "<style scoped>\n",
       "    .dataframe tbody tr th:only-of-type {\n",
       "        vertical-align: middle;\n",
       "    }\n",
       "\n",
       "    .dataframe tbody tr th {\n",
       "        vertical-align: top;\n",
       "    }\n",
       "\n",
       "    .dataframe thead th {\n",
       "        text-align: right;\n",
       "    }\n",
       "</style>\n",
       "<table border=\"1\" class=\"dataframe\">\n",
       "  <thead>\n",
       "    <tr style=\"text-align: right;\">\n",
       "      <th></th>\n",
       "      <th>Text</th>\n",
       "      <th>UID</th>\n",
       "      <th>Tags</th>\n",
       "    </tr>\n",
       "  </thead>\n",
       "  <tbody>\n",
       "    <tr>\n",
       "      <th>0</th>\n",
       "      <td>Well the title says it all! If you want a ligh...</td>\n",
       "      <td>0</td>\n",
       "      <td>A, C</td>\n",
       "    </tr>\n",
       "    <tr>\n",
       "      <th>1</th>\n",
       "      <td>I can't believe this item was even approved by...</td>\n",
       "      <td>1</td>\n",
       "      <td>B</td>\n",
       "    </tr>\n",
       "    <tr>\n",
       "      <th>2</th>\n",
       "      <td>Roland smoked eel fillets are absolutely delic...</td>\n",
       "      <td>2</td>\n",
       "      <td>A, B</td>\n",
       "    </tr>\n",
       "    <tr>\n",
       "      <th>3</th>\n",
       "      <td>The product is fresh and tasty. Its also not e...</td>\n",
       "      <td>3</td>\n",
       "      <td>B</td>\n",
       "    </tr>\n",
       "    <tr>\n",
       "      <th>4</th>\n",
       "      <td>Switch Orange/Tangerine soda comes in a smalle...</td>\n",
       "      <td>4</td>\n",
       "      <td>A</td>\n",
       "    </tr>\n",
       "  </tbody>\n",
       "</table>\n",
       "</div>"
      ],
      "text/plain": [
       "                                                Text  UID  Tags\n",
       "0  Well the title says it all! If you want a ligh...    0  A, C\n",
       "1  I can't believe this item was even approved by...    1     B\n",
       "2  Roland smoked eel fillets are absolutely delic...    2  A, B\n",
       "3  The product is fresh and tasty. Its also not e...    3     B\n",
       "4  Switch Orange/Tangerine soda comes in a smalle...    4     A"
      ]
     },
     "execution_count": 4,
     "metadata": {},
     "output_type": "execute_result"
    }
   ],
   "source": [
    "train_df.head()"
   ]
  },
  {
   "cell_type": "code",
   "execution_count": 5,
   "metadata": {},
   "outputs": [
    {
     "data": {
      "text/html": [
       "<div>\n",
       "<style scoped>\n",
       "    .dataframe tbody tr th:only-of-type {\n",
       "        vertical-align: middle;\n",
       "    }\n",
       "\n",
       "    .dataframe tbody tr th {\n",
       "        vertical-align: top;\n",
       "    }\n",
       "\n",
       "    .dataframe thead th {\n",
       "        text-align: right;\n",
       "    }\n",
       "</style>\n",
       "<table border=\"1\" class=\"dataframe\">\n",
       "  <thead>\n",
       "    <tr style=\"text-align: right;\">\n",
       "      <th></th>\n",
       "      <th>Text</th>\n",
       "      <th>UID</th>\n",
       "      <th>Tags</th>\n",
       "      <th>Tag_A</th>\n",
       "      <th>Tag_B</th>\n",
       "      <th>Tag_C</th>\n",
       "    </tr>\n",
       "  </thead>\n",
       "  <tbody>\n",
       "    <tr>\n",
       "      <th>0</th>\n",
       "      <td>Well the title says it all! If you want a ligh...</td>\n",
       "      <td>0</td>\n",
       "      <td>A, C</td>\n",
       "      <td>1</td>\n",
       "      <td>0</td>\n",
       "      <td>1</td>\n",
       "    </tr>\n",
       "    <tr>\n",
       "      <th>1</th>\n",
       "      <td>I can't believe this item was even approved by...</td>\n",
       "      <td>1</td>\n",
       "      <td>B</td>\n",
       "      <td>0</td>\n",
       "      <td>1</td>\n",
       "      <td>0</td>\n",
       "    </tr>\n",
       "    <tr>\n",
       "      <th>2</th>\n",
       "      <td>Roland smoked eel fillets are absolutely delic...</td>\n",
       "      <td>2</td>\n",
       "      <td>A, B</td>\n",
       "      <td>1</td>\n",
       "      <td>1</td>\n",
       "      <td>0</td>\n",
       "    </tr>\n",
       "    <tr>\n",
       "      <th>3</th>\n",
       "      <td>The product is fresh and tasty. Its also not e...</td>\n",
       "      <td>3</td>\n",
       "      <td>B</td>\n",
       "      <td>0</td>\n",
       "      <td>1</td>\n",
       "      <td>0</td>\n",
       "    </tr>\n",
       "    <tr>\n",
       "      <th>4</th>\n",
       "      <td>Switch Orange/Tangerine soda comes in a smalle...</td>\n",
       "      <td>4</td>\n",
       "      <td>A</td>\n",
       "      <td>1</td>\n",
       "      <td>0</td>\n",
       "      <td>0</td>\n",
       "    </tr>\n",
       "  </tbody>\n",
       "</table>\n",
       "</div>"
      ],
      "text/plain": [
       "                                                Text  UID  Tags  Tag_A  Tag_B  \\\n",
       "0  Well the title says it all! If you want a ligh...    0  A, C      1      0   \n",
       "1  I can't believe this item was even approved by...    1     B      0      1   \n",
       "2  Roland smoked eel fillets are absolutely delic...    2  A, B      1      1   \n",
       "3  The product is fresh and tasty. Its also not e...    3     B      0      1   \n",
       "4  Switch Orange/Tangerine soda comes in a smalle...    4     A      1      0   \n",
       "\n",
       "   Tag_C  \n",
       "0      1  \n",
       "1      0  \n",
       "2      0  \n",
       "3      0  \n",
       "4      0  "
      ]
     },
     "execution_count": 5,
     "metadata": {},
     "output_type": "execute_result"
    }
   ],
   "source": [
    "ui_utils.create_tag_columns(train_df).head()"
   ]
  },
  {
   "cell_type": "code",
   "execution_count": 6,
   "metadata": {},
   "outputs": [],
   "source": [
    "train_df = ui_utils.create_tag_columns(train_df)"
   ]
  },
  {
   "cell_type": "raw",
   "metadata": {},
   "source": [
    "sample_df = train_df.loc[:, ['Text', 'UID']]"
   ]
  },
  {
   "cell_type": "raw",
   "metadata": {},
   "source": [
    "ui_utils.df_to_json_form(sample_df)"
   ]
  },
  {
   "cell_type": "markdown",
   "metadata": {},
   "source": [
    "## Tokenize and generate text for training\n",
    "\n",
    "Create functions that handle a binary classification"
   ]
  },
  {
   "cell_type": "code",
   "execution_count": 7,
   "metadata": {},
   "outputs": [],
   "source": [
    "target = 'Tag_A'\n",
    "BATCH_SIZE = 100\n",
    "BUFFER_SIZE = 1000"
   ]
  },
  {
   "cell_type": "code",
   "execution_count": 8,
   "metadata": {},
   "outputs": [],
   "source": [
    "tokenizer, text_seqs = nlp_tools.train_tokenizer(train_df)\n",
    "target_list = train_df.loc[:, target].tolist()"
   ]
  },
  {
   "cell_type": "code",
   "execution_count": 9,
   "metadata": {},
   "outputs": [],
   "source": [
    "# TODO: incorporate time stamp\n",
    "with open('../output/text_tokenizer.pickle', 'wb') as file:\n",
    "    pickle.dump(tokenizer, file)"
   ]
  },
  {
   "cell_type": "code",
   "execution_count": 10,
   "metadata": {},
   "outputs": [],
   "source": [
    "def data_split(text_seqs, target_list, test_rate=0.1):\n",
    "    test_count = round(len(text_seqs) * test_rate)\n",
    "    print(f\"Out of {len(text_seqs):,} samples, {test_count:,} will be used as test samples\")\n",
    "    test_index = np.random.choice(len(text_seqs), test_count)\n",
    "    print(test_index)\n",
    "    train_index = [idx for idx in range(len(text_seqs)) if idx not in test_index]\n",
    "    text_seqs, target_list = np.array(text_seqs), np.array(target_list)\n",
    "    test_seqs, test_targets = text_seqs[test_index], target_list[test_index]\n",
    "    train_seqs, train_targets = text_seqs[train_index], target_list[train_index]\n",
    "    return test_seqs, test_targets, train_seqs, train_targets"
   ]
  },
  {
   "cell_type": "code",
   "execution_count": 11,
   "metadata": {},
   "outputs": [
    {
     "name": "stdout",
     "output_type": "stream",
     "text": [
      "Out of 20 samples, 2 will be used as test samples\n",
      "[16  4]\n"
     ]
    }
   ],
   "source": [
    "test_seqs, test_targets, train_seqs, train_targets = data_split(\n",
    "    text_seqs, target_list, test_rate=0.1)"
   ]
  },
  {
   "cell_type": "code",
   "execution_count": 12,
   "metadata": {},
   "outputs": [],
   "source": [
    "train_ds = nlp_tools.create_balanced_ds(\n",
    "    train_seqs, train_targets, tokenizer, BATCH_SIZE, BUFFER_SIZE)\n",
    "test_ds = nlp_tools.create_balanced_ds(\n",
    "    test_seqs, test_targets, tokenizer, BATCH_SIZE, BUFFER_SIZE)"
   ]
  },
  {
   "cell_type": "code",
   "execution_count": 13,
   "metadata": {
    "scrolled": true
   },
   "outputs": [
    {
     "name": "stdout",
     "output_type": "stream",
     "text": [
      "(<tf.Tensor: shape=(100, 231), dtype=int32, numpy=\n",
      "array([[372,  10,   2, ...,   0,   0,   0],\n",
      "       [  2, 120, 904, ...,   0,   0,   0],\n",
      "       [ 51,   6,   7, ...,   0,   0,   0],\n",
      "       ...,\n",
      "       [  4,   3,  15, ...,   0,   0,   0],\n",
      "       [  2, 377,  63, ...,   0,   0,   0],\n",
      "       [  3,  98,  67, ...,   0,   0,   0]], dtype=int32)>, <tf.Tensor: shape=(100,), dtype=int32, numpy=\n",
      "array([1, 0, 1, 1, 0, 1, 0, 0, 1, 1, 1, 1, 0, 0, 1, 1, 1, 1, 1, 0, 0, 1,\n",
      "       1, 0, 0, 1, 0, 0, 0, 1, 1, 1, 0, 1, 0, 1, 1, 1, 0, 0, 1, 1, 0, 0,\n",
      "       0, 0, 0, 1, 1, 0, 0, 1, 0, 1, 1, 1, 0, 0, 1, 1, 1, 0, 1, 1, 0, 1,\n",
      "       0, 1, 0, 0, 0, 1, 0, 1, 0, 1, 1, 0, 0, 1, 1, 0, 0, 1, 1, 1, 1, 1,\n",
      "       1, 1, 0, 0, 1, 1, 0, 0, 1, 1, 1, 1], dtype=int32)>)\n",
      "(<tf.Tensor: shape=(100, 224), dtype=int32, numpy=\n",
      "array([[  1, 362,  10, ...,   0,   0,   0],\n",
      "       [358, 187, 359, ...,   0,   0,   0],\n",
      "       [  1, 129,  12, ...,   0,   0,   0],\n",
      "       ...,\n",
      "       [ 91,   9, 899, ...,   0,   0,   0],\n",
      "       [ 30,  10,   2, ...,   0,   0,   0],\n",
      "       [899,   1, 129, ...,   0,   0,   0]], dtype=int32)>, <tf.Tensor: shape=(100,), dtype=int32, numpy=\n",
      "array([1, 1, 0, 0, 1, 1, 0, 0, 0, 0, 1, 1, 0, 0, 0, 1, 1, 1, 1, 0, 1, 0,\n",
      "       1, 1, 1, 0, 0, 1, 0, 1, 0, 0, 0, 0, 1, 0, 0, 1, 1, 1, 0, 1, 0, 1,\n",
      "       0, 1, 1, 0, 1, 0, 1, 1, 0, 0, 0, 1, 0, 1, 1, 0, 1, 0, 1, 1, 1, 0,\n",
      "       1, 1, 0, 1, 1, 1, 1, 1, 0, 0, 0, 1, 0, 0, 1, 0, 1, 0, 0, 1, 1, 0,\n",
      "       0, 0, 0, 1, 0, 1, 0, 1, 1, 0, 1, 0], dtype=int32)>)\n"
     ]
    }
   ],
   "source": [
    "# take 2 batches from the ds and display output\n",
    "for x in test_ds.take(2):\n",
    "    print(x)"
   ]
  },
  {
   "cell_type": "markdown",
   "metadata": {},
   "source": [
    "## Load GloVe Embedding Layer and Train Model"
   ]
  },
  {
   "cell_type": "code",
   "execution_count": 14,
   "metadata": {},
   "outputs": [],
   "source": [
    "en_model = spacy.load('en_core_web_lg')\n",
    "embed_layer = nlp_tools.get_pretrained_embedding_layer(tokenizer, en_model)"
   ]
  },
  {
   "cell_type": "code",
   "execution_count": 15,
   "metadata": {},
   "outputs": [],
   "source": [
    "# below codes directly from tensorflow RNN tutorial\n",
    "import matplotlib.pyplot as plt\n",
    "\n",
    "def plot_graphs(history, string):\n",
    "    plt.plot(history.history[string])\n",
    "    plt.plot(history.history['val_'+string], '')\n",
    "    plt.xlabel(\"Epochs\")\n",
    "    plt.ylabel(string)\n",
    "    plt.legend([string, 'val_'+string])\n",
    "    plt.show()"
   ]
  },
  {
   "cell_type": "code",
   "execution_count": 16,
   "metadata": {
    "scrolled": true
   },
   "outputs": [
    {
     "name": "stdout",
     "output_type": "stream",
     "text": [
      "Vocabulary size: 951\n"
     ]
    }
   ],
   "source": [
    "print ('Vocabulary size: {:,}'.format(len(tokenizer.word_index.items())))"
   ]
  },
  {
   "cell_type": "code",
   "execution_count": 17,
   "metadata": {},
   "outputs": [],
   "source": [
    "# UPDATE: checkpoint callback\n",
    "stage_1_checkpoint = tf.keras.callbacks.ModelCheckpoint('Output/auxiliary_model_stage_1.h5')\n",
    "stage_2_checkpoint = tf.keras.callbacks.ModelCheckpoint('Output/auxiliary_model_stage_2.h5')"
   ]
  },
  {
   "cell_type": "code",
   "execution_count": 18,
   "metadata": {},
   "outputs": [],
   "source": [
    "# UPDATE: tensorboard callback\n",
    "import os\n",
    "import time\n",
    "def get_run_callback(run_text):\n",
    "    root_logdir = './Output/tensorboard_logs/'\n",
    "    run_id = time.strftime(f'{run_text}_%Y_%m_%d-%H-%M-%S')\n",
    "    log_path = os.path.join(root_logdir, run_id)\n",
    "    tensorboad_callback = tf.keras.callbacks.TensorBoard(log_path)\n",
    "    return tensorboad_callback"
   ]
  },
  {
   "cell_type": "code",
   "execution_count": 19,
   "metadata": {},
   "outputs": [],
   "source": [
    "# using an early stopping rule to stop training when model stops improving in validation\n",
    "early_stopper = tf.keras.callbacks.EarlyStopping(monitor='val_loss', patience=10, restore_best_weights=True)"
   ]
  },
  {
   "cell_type": "markdown",
   "metadata": {},
   "source": [
    "#### Stage 1: Freezing embeddings layer and train the rest of the layers"
   ]
  },
  {
   "cell_type": "code",
   "execution_count": 20,
   "metadata": {},
   "outputs": [],
   "source": [
    "# freeze the embeddings layer at early stages of the modeling\n",
    "embed_layer.trainable = False"
   ]
  },
  {
   "cell_type": "code",
   "execution_count": 21,
   "metadata": {},
   "outputs": [],
   "source": [
    "# simple bidirectional LSTM network\n",
    "model = tf.keras.Sequential([\n",
    "    #tf.keras.layers.Embedding(len(tokenizer.word_index.items()) + 1, 300, mask_zero=True),\n",
    "    embed_layer,\n",
    "    tf.keras.layers.Bidirectional(tf.keras.layers.LSTM(64,  return_sequences=True)),\n",
    "    tf.keras.layers.Bidirectional(tf.keras.layers.LSTM(64)),\n",
    "    tf.keras.layers.Dense(128, activation='relu'),\n",
    "    tf.keras.layers.Dropout(0.5),\n",
    "    tf.keras.layers.Dense(1, activation='sigmoid')])\n",
    "\n",
    "# model compiling settings\n",
    "model.compile(loss='binary_crossentropy',\n",
    "              optimizer=tf.keras.optimizers.Adam(1e-3),\n",
    "              metrics=['accuracy'])"
   ]
  },
  {
   "cell_type": "code",
   "execution_count": 22,
   "metadata": {},
   "outputs": [
    {
     "name": "stdout",
     "output_type": "stream",
     "text": [
      "Model: \"sequential\"\n",
      "_________________________________________________________________\n",
      "Layer (type)                 Output Shape              Param #   \n",
      "=================================================================\n",
      "embedding (Embedding)        (None, None, 300)         357300    \n",
      "_________________________________________________________________\n",
      "bidirectional (Bidirectional (None, None, 128)         186880    \n",
      "_________________________________________________________________\n",
      "bidirectional_1 (Bidirection (None, 128)               98816     \n",
      "_________________________________________________________________\n",
      "dense (Dense)                (None, 128)               16512     \n",
      "_________________________________________________________________\n",
      "dropout (Dropout)            (None, 128)               0         \n",
      "_________________________________________________________________\n",
      "dense_1 (Dense)              (None, 1)                 129       \n",
      "=================================================================\n",
      "Total params: 659,637\n",
      "Trainable params: 302,337\n",
      "Non-trainable params: 357,300\n",
      "_________________________________________________________________\n"
     ]
    }
   ],
   "source": [
    "model.summary()"
   ]
  },
  {
   "cell_type": "code",
   "execution_count": 23,
   "metadata": {
    "scrolled": true
   },
   "outputs": [
    {
     "name": "stdout",
     "output_type": "stream",
     "text": [
      "Epoch 1/200\n",
      "25/25 [==============================] - 14s 549ms/step - loss: 0.5428 - accuracy: 0.7216 - val_loss: 1.2059 - val_accuracy: 0.3996\n",
      "Epoch 2/200\n",
      "25/25 [==============================] - 10s 419ms/step - loss: 0.1990 - accuracy: 0.9256 - val_loss: 3.9428 - val_accuracy: 0.2088\n",
      "Epoch 3/200\n",
      "25/25 [==============================] - 11s 430ms/step - loss: 0.1414 - accuracy: 0.9452 - val_loss: 2.6350 - val_accuracy: 0.4336\n",
      "Epoch 4/200\n",
      "25/25 [==============================] - 10s 415ms/step - loss: 0.1039 - accuracy: 0.9584 - val_loss: 3.1943 - val_accuracy: 0.4988\n",
      "Epoch 5/200\n",
      "25/25 [==============================] - 11s 423ms/step - loss: 0.2356 - accuracy: 0.9116 - val_loss: 2.4902 - val_accuracy: 0.2872\n",
      "Epoch 6/200\n",
      "25/25 [==============================] - 10s 412ms/step - loss: 0.1039 - accuracy: 0.9576 - val_loss: 3.1479 - val_accuracy: 0.3320\n",
      "Epoch 7/200\n",
      "25/25 [==============================] - 11s 422ms/step - loss: 0.0822 - accuracy: 0.9604 - val_loss: 4.4679 - val_accuracy: 0.2228\n",
      "Epoch 8/200\n",
      "25/25 [==============================] - 11s 432ms/step - loss: 0.0866 - accuracy: 0.9620 - val_loss: 3.9154 - val_accuracy: 0.3808\n",
      "Epoch 9/200\n",
      "25/25 [==============================] - 11s 424ms/step - loss: 0.0656 - accuracy: 0.9724 - val_loss: 4.0137 - val_accuracy: 0.4584\n",
      "Epoch 10/200\n",
      "25/25 [==============================] - 11s 443ms/step - loss: 0.0759 - accuracy: 0.9644 - val_loss: 4.5998 - val_accuracy: 0.4784\n",
      "Epoch 11/200\n",
      "25/25 [==============================] - 10s 407ms/step - loss: 0.0676 - accuracy: 0.9684 - val_loss: 4.0905 - val_accuracy: 0.4360\n"
     ]
    }
   ],
   "source": [
    "history = model.fit(train_ds, epochs=200,\n",
    "                    steps_per_epoch=25,\n",
    "                    validation_data=test_ds, \n",
    "                    validation_steps=25,\n",
    "                    callbacks=[stage_1_checkpoint, early_stopper, get_run_callback('stage_1')])"
   ]
  },
  {
   "cell_type": "code",
   "execution_count": 24,
   "metadata": {
    "scrolled": true
   },
   "outputs": [
    {
     "name": "stdout",
     "output_type": "stream",
     "text": [
      "50/50 [==============================] - 8s 152ms/step - loss: 1.2099 - accuracy: 0.4100\n",
      "Test Loss: 1.2099053859710693\n",
      "Test Accuracy: 0.4099999964237213\n"
     ]
    }
   ],
   "source": [
    "test_loss, test_acc = model.evaluate(test_ds, steps=50)\n",
    "\n",
    "print('Test Loss: {}'.format(test_loss))\n",
    "print('Test Accuracy: {}'.format(test_acc))"
   ]
  },
  {
   "cell_type": "code",
   "execution_count": 25,
   "metadata": {},
   "outputs": [
    {
     "data": {
      "image/png": "[encoded data removed]",
      "text/plain": [
       "<Figure size 432x288 with 1 Axes>"
      ]
     },
     "metadata": {
      "needs_background": "light"
     },
     "output_type": "display_data"
    }
   ],
   "source": [
    "plot_graphs(history, 'accuracy')"
   ]
  },
  {
   "cell_type": "code",
   "execution_count": 26,
   "metadata": {},
   "outputs": [
    {
     "data": {
      "image/png": "[encoded data removed]",
      "text/plain": [
       "<Figure size 432x288 with 1 Axes>"
      ]
     },
     "metadata": {
      "needs_background": "light"
     },
     "output_type": "display_data"
    }
   ],
   "source": [
    "plot_graphs(history, 'loss')"
   ]
  }
 ],
 "metadata": {
  "kernelspec": {
   "display_name": "Python 3",
   "language": "python",
   "name": "python3"
  },
  "language_info": {
   "codemirror_mode": {
    "name": "ipython",
    "version": 3
   },
   "file_extension": ".py",
   "mimetype": "text/x-python",
   "name": "python",
   "nbconvert_exporter": "python",
   "pygments_lexer": "ipython3",
   "version": "3.6.9"
  }
 },
 "nbformat": 4,
 "nbformat_minor": 4
}
